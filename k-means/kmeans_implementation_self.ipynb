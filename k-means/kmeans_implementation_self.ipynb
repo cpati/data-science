{
 "cells": [
  {
   "cell_type": "code",
   "execution_count": 612,
   "metadata": {},
   "outputs": [],
   "source": [
    "from matplotlib import pyplot as plt\n",
    "import numpy as np"
   ]
  },
  {
   "cell_type": "code",
   "execution_count": 613,
   "metadata": {},
   "outputs": [],
   "source": [
    "X=np.array([[3,5],[3,4],[5,6],[2,6],[4,5],[6,8]\n",
    "            ,[6,2],[6,3],[5,6],[6,7]\n",
    "           ,[7,2],[8,5],[9,1],[8,2],[9,6],[9,1]\n",
    "            ,[8,3]])"
   ]
  },
  {
   "cell_type": "code",
   "execution_count": 614,
   "metadata": {},
   "outputs": [
    {
     "data": {
      "text/plain": [
       "(17, 2)"
      ]
     },
     "execution_count": 614,
     "metadata": {},
     "output_type": "execute_result"
    }
   ],
   "source": [
    "X.shape"
   ]
  },
  {
   "cell_type": "code",
   "execution_count": 615,
   "metadata": {},
   "outputs": [
    {
     "data": {
      "text/plain": [
       "<matplotlib.collections.PathCollection at 0x1a29e91d68>"
      ]
     },
     "execution_count": 615,
     "metadata": {},
     "output_type": "execute_result"
    },
    {
     "data": {
      "image/png": "[encoded data removed]",
      "text/plain": [
       "<Figure size 432x288 with 1 Axes>"
      ]
     },
     "metadata": {},
     "output_type": "display_data"
    }
   ],
   "source": [
    "plt.scatter(x=X[:,0],y=X[:,1],s=7)"
   ]
  },
  {
   "cell_type": "code",
   "execution_count": 616,
   "metadata": {},
   "outputs": [],
   "source": [
    "# take 2 random points a centroids\n",
    "centroids=[[2,6],[9,6]]"
   ]
  },
  {
   "cell_type": "code",
   "execution_count": 617,
   "metadata": {},
   "outputs": [],
   "source": [
    "# Now we need to check individual points and see which clusters they fall into \n",
    "# and recalculate the centroid by taking the mean"
   ]
  },
  {
   "cell_type": "code",
   "execution_count": 618,
   "metadata": {},
   "outputs": [],
   "source": [
    "# function to calculate eculidian distance between 2 points\n",
    "import math\n",
    "def euclidian_distance(p1, p2):\n",
    "    return math.sqrt(math.pow((p1[0]-p2[0]),2)+math.pow((p1[1]-p2[1]),2));"
   ]
  },
  {
   "cell_type": "code",
   "execution_count": 619,
   "metadata": {},
   "outputs": [
    {
     "data": {
      "text/plain": [
       "5.0"
      ]
     },
     "execution_count": 619,
     "metadata": {},
     "output_type": "execute_result"
    }
   ],
   "source": [
    "euclidian_distance([1,1],[4,5])"
   ]
  },
  {
   "cell_type": "code",
   "execution_count": 620,
   "metadata": {},
   "outputs": [],
   "source": [
    "# average of 2 points\n",
    "def average_points(p1,p2):\n",
    "    avg=[];\n",
    "    avg.append((p1[0]+p2[0])/2);\n",
    "    avg.append((p1[1]+p2[1])/2);\n",
    "    return avg;"
   ]
  },
  {
   "cell_type": "code",
   "execution_count": 621,
   "metadata": {},
   "outputs": [
    {
     "data": {
      "text/plain": [
       "[2.0, 2.0]"
      ]
     },
     "execution_count": 621,
     "metadata": {},
     "output_type": "execute_result"
    }
   ],
   "source": [
    "average_points([1,1],[3,3])"
   ]
  },
  {
   "cell_type": "code",
   "execution_count": 622,
   "metadata": {},
   "outputs": [
    {
     "data": {
      "text/plain": [
       "<matplotlib.collections.PathCollection at 0x1a29f50c50>"
      ]
     },
     "execution_count": 622,
     "metadata": {},
     "output_type": "execute_result"
    },
    {
     "data": {
      "image/png": "[encoded data removed]",
      "text/plain": [
       "<Figure size 432x288 with 1 Axes>"
      ]
     },
     "metadata": {},
     "output_type": "display_data"
    }
   ],
   "source": [
    "plt.scatter(X[:,0], X[:,1], s=7)"
   ]
  },
  {
   "cell_type": "code",
   "execution_count": 623,
   "metadata": {},
   "outputs": [
    {
     "name": "stdout",
     "output_type": "stream",
     "text": [
      "Centroid after each Iterations\n",
      "[3 5]\n",
      "[[3.5, 5.5], [7, 3]]\n",
      "[3 4]\n",
      "[[3.25, 4.75], [7, 3]]\n",
      "[5 6]\n",
      "[[4.125, 5.375], [7, 3]]\n",
      "[2 6]\n",
      "[[3.0625, 5.6875], [7, 3]]\n",
      "[4 5]\n",
      "[[3.53125, 5.34375], [7, 3]]\n",
      "[6 8]\n",
      "[[4.765625, 6.671875], [7, 3]]\n",
      "[6 2]\n",
      "[[4.765625, 6.671875], [6.5, 2.5]]\n",
      "[6 3]\n",
      "[[4.765625, 6.671875], [6.25, 2.75]]\n",
      "[5 6]\n",
      "[[4.8828125, 6.3359375], [6.25, 2.75]]\n",
      "[6 7]\n",
      "[[5.44140625, 6.66796875], [6.25, 2.75]]\n",
      "[7 2]\n",
      "[[5.44140625, 6.66796875], [6.625, 2.375]]\n",
      "[8 5]\n",
      "[[5.44140625, 6.66796875], [7.3125, 3.6875]]\n",
      "[9 1]\n",
      "[[5.44140625, 6.66796875], [8.15625, 2.34375]]\n",
      "[8 2]\n",
      "[[5.44140625, 6.66796875], [8.078125, 2.171875]]\n",
      "[9 6]\n",
      "[[7.220703125, 6.333984375], [8.078125, 2.171875]]\n",
      "[9 1]\n",
      "[[7.220703125, 6.333984375], [8.5390625, 1.5859375]]\n",
      "[8 3]\n",
      "[[7.220703125, 6.333984375], [8.26953125, 2.29296875]]\n"
     ]
    }
   ],
   "source": [
    "# Loop through X\n",
    "print(\"Centroid after each Iterations\")\n",
    "# Tried with 2 different initial centroids , clusters are coming as different\n",
    "#centroids=[[2,6],[9,6]] \n",
    "centroids=[[4,6],[7,3]]\n",
    "points_centroid=[]\n",
    "for pt in X:\n",
    "    # calculate distace of each point with centriods\n",
    "    print(pt)\n",
    "    d1=euclidian_distance(pt,centroids[0])\n",
    "    d2=euclidian_distance(pt,centroids[1])\n",
    "    if (d1 <= d2): # point falls in cluster 1\n",
    "        # recalculate the centroids\n",
    "        centroids[0]=average_points(pt,centroids[0]);\n",
    "        points_centroid.append([pt[0],pt[1],'r']);\n",
    "    else: # point falls in cluster 2\n",
    "        centroids[1]=average_points(pt,centroids[1]);\n",
    "        points_centroid.append([pt[0],pt[1],'y']);\n",
    "    print(centroids);"
   ]
  },
  {
   "cell_type": "code",
   "execution_count": 624,
   "metadata": {},
   "outputs": [],
   "source": [
    "centroids[0].append('r')\n",
    "centroids[1].append('y')\n",
    "centroids=np.array(centroids)"
   ]
  },
  {
   "cell_type": "code",
   "execution_count": 625,
   "metadata": {},
   "outputs": [],
   "source": [
    "points_centroid=np.array(points_centroid)"
   ]
  },
  {
   "cell_type": "code",
   "execution_count": 626,
   "metadata": {},
   "outputs": [
    {
     "name": "stdout",
     "output_type": "stream",
     "text": [
      "final centroids\n"
     ]
    },
    {
     "data": {
      "text/plain": [
       "array([['7.220703125', '6.333984375', 'r'],\n",
       "       ['8.26953125', '2.29296875', 'y']], dtype='<U32')"
      ]
     },
     "execution_count": 626,
     "metadata": {},
     "output_type": "execute_result"
    }
   ],
   "source": [
    "#print final centroids\n",
    "print(\"final centroids\")\n",
    "centroids "
   ]
  },
  {
   "cell_type": "code",
   "execution_count": 627,
   "metadata": {},
   "outputs": [
    {
     "data": {
      "text/plain": [
       "numpy.ndarray"
      ]
     },
     "execution_count": 627,
     "metadata": {},
     "output_type": "execute_result"
    }
   ],
   "source": [
    "type(points_centroid[:,0])"
   ]
  },
  {
   "cell_type": "code",
   "execution_count": 628,
   "metadata": {},
   "outputs": [
    {
     "data": {
      "text/plain": [
       "<matplotlib.collections.PathCollection at 0x1a2a070b00>"
      ]
     },
     "execution_count": 628,
     "metadata": {},
     "output_type": "execute_result"
    },
    {
     "data": {
      "image/png": "[encoded data removed]",
      "text/plain": [
       "<Figure size 432x288 with 1 Axes>"
      ]
     },
     "metadata": {},
     "output_type": "display_data"
    }
   ],
   "source": [
    "plt.scatter(x=points_centroid[:,0].astype(np.float),y=points_centroid[:,1].astype(np.float)\n",
    "            ,c=points_centroid[:,2],s=7)\n",
    "plt.scatter(x=centroids[:,0].astype(np.float), y=centroids[:,1].astype(np.float), \n",
    "marker='*', c=centroids[:,2], s=150)"
   ]
  },
  {
   "cell_type": "code",
   "execution_count": 629,
   "metadata": {},
   "outputs": [
    {
     "data": {
      "text/plain": [
       "array([['3', '5', 'r'],\n",
       "       ['3', '4', 'r'],\n",
       "       ['5', '6', 'r'],\n",
       "       ['2', '6', 'r'],\n",
       "       ['4', '5', 'r'],\n",
       "       ['6', '8', 'r'],\n",
       "       ['6', '2', 'y'],\n",
       "       ['6', '3', 'y'],\n",
       "       ['5', '6', 'r'],\n",
       "       ['6', '7', 'r'],\n",
       "       ['7', '2', 'y'],\n",
       "       ['8', '5', 'y'],\n",
       "       ['9', '1', 'y'],\n",
       "       ['8', '2', 'y'],\n",
       "       ['9', '6', 'r'],\n",
       "       ['9', '1', 'y'],\n",
       "       ['8', '3', 'y']], dtype='<U21')"
      ]
     },
     "execution_count": 629,
     "metadata": {},
     "output_type": "execute_result"
    }
   ],
   "source": [
    "points_centroid"
   ]
  },
  {
   "cell_type": "code",
   "execution_count": 630,
   "metadata": {},
   "outputs": [
    {
     "data": {
      "text/plain": [
       "array([7.22070312, 8.26953125])"
      ]
     },
     "execution_count": 630,
     "metadata": {},
     "output_type": "execute_result"
    }
   ],
   "source": [
    "centroids[:,0].astype(np.float)"
   ]
  },
  {
   "cell_type": "code",
   "execution_count": 631,
   "metadata": {},
   "outputs": [
    {
     "name": "stdout",
     "output_type": "stream",
     "text": [
      "[3. 5.]\n",
      "[3. 4.]\n",
      "[5. 6.]\n",
      "[2. 6.]\n",
      "[4. 5.]\n",
      "[6. 8.]\n",
      "[6. 2.]\n",
      "[6. 3.]\n",
      "[5. 6.]\n",
      "[6. 7.]\n",
      "[7. 2.]\n",
      "[8. 5.]\n",
      "[9. 1.]\n",
      "[8. 2.]\n",
      "[9. 6.]\n",
      "[9. 1.]\n",
      "[8. 3.]\n"
     ]
    }
   ],
   "source": [
    "#revise the centroid allocation\n",
    "points_centroid_revised=[]\n",
    "for pt in points_centroid:\n",
    "    print(pt[[0,1]].astype(np.float))\n",
    "    if euclidian_distance(pt[[0,1]].astype(np.float),centroids[:,0].astype(np.float)) < euclidian_distance(pt[[0,1]].astype(np.float),centroids[:,1].astype(np.float)):  \n",
    "        pt[2]='r'\n",
    "    else:\n",
    "        pt[2]='y'\n",
    "    points_centroid_revised.append(pt)"
   ]
  },
  {
   "cell_type": "code",
   "execution_count": 632,
   "metadata": {},
   "outputs": [
    {
     "data": {
      "text/plain": [
       "(17, 3)"
      ]
     },
     "execution_count": 632,
     "metadata": {},
     "output_type": "execute_result"
    }
   ],
   "source": [
    "points_centroid_revised=np.array(points_centroid_revised)\n",
    "points_centroid_revised.shape"
   ]
  },
  {
   "cell_type": "code",
   "execution_count": 633,
   "metadata": {},
   "outputs": [
    {
     "data": {
      "text/plain": [
       "(17, 3)"
      ]
     },
     "execution_count": 633,
     "metadata": {},
     "output_type": "execute_result"
    }
   ],
   "source": [
    "points_centroid.shape"
   ]
  },
  {
   "cell_type": "code",
   "execution_count": 634,
   "metadata": {},
   "outputs": [
    {
     "data": {
      "text/plain": [
       "<matplotlib.collections.PathCollection at 0x1a2a0d5d30>"
      ]
     },
     "execution_count": 634,
     "metadata": {},
     "output_type": "execute_result"
    },
    {
     "data": {
      "image/png": "[encoded data removed]",
      "text/plain": [
       "<Figure size 432x288 with 1 Axes>"
      ]
     },
     "metadata": {},
     "output_type": "display_data"
    }
   ],
   "source": [
    "plt.scatter(x=points_centroid[:,0].astype(np.float),y=points_centroid[:,1].astype(np.float)\n",
    "            ,c=points_centroid[:,2],s=7)\n",
    "plt.scatter(x=centroids[:,0].astype(np.float), y=centroids[:,1].astype(np.float), \n",
    "marker='*', c=centroids[:,2], s=150)"
   ]
  }
 ],
 "metadata": {
  "kernelspec": {
   "display_name": "Python 3",
   "language": "python",
   "name": "python3"
  },
  "language_info": {
   "codemirror_mode": {
    "name": "ipython",
    "version": 3
   },
   "file_extension": ".py",
   "mimetype": "text/x-python",
   "name": "python",
   "nbconvert_exporter": "python",
   "pygments_lexer": "ipython3",
   "version": "3.6.5"
  }
 },
 "nbformat": 4,
 "nbformat_minor": 2
}
